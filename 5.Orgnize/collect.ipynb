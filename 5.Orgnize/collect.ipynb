{
 "cells": [
  {
   "cell_type": "markdown",
   "source": [
    "# Import packages"
   ],
   "metadata": {}
  },
  {
   "cell_type": "code",
   "execution_count": 2,
   "source": [
    "import os\n",
    "import pandas as pd\n",
    "import json\n",
    "# -*- coding:utf-8 -*-"
   ],
   "outputs": [],
   "metadata": {
    "Collapsed": "false"
   }
  },
  {
   "cell_type": "markdown",
   "source": [
    "## 将标注文档转成excel"
   ],
   "metadata": {}
  },
  {
   "cell_type": "code",
   "execution_count": 18,
   "source": [
    "input_path = \"input\"\n",
    "sped_l = os.listdir(input_path)\n",
    "ent = [\"是否是致病菌\", \"样本量\", \"患者性别\", \"年龄\", \"免疫状态\", \"肺部基础疾病\", \"证据等级\", \"预后\"]\n",
    "\n",
    "for sped in sped_l:\n",
    "\n",
    "    collection = {}\n",
    "    paper_l = os.listdir(\"%s/%s/outputs\" % (input_path, sped))\n",
    "    paper_l = [ele for ele in paper_l if \"json\" in ele]\n",
    "\n",
    "    for paper in paper_l:\n",
    "\n",
    "        pattern = {\n",
    "            \"物种名称\": \"\",\n",
    "            \"是否是致病菌\": \"\",\n",
    "            \"样本量\": \"\",\n",
    "            \"患者性别\": \"\",\n",
    "            \"年龄\": \"\",\n",
    "            \"免疫状态\": \"\",\n",
    "            \"肺部基础疾病\": \"\",\n",
    "            \"证据等级\": \"\",\n",
    "            \"预后\": \"\"\n",
    "        }\n",
    "\n",
    "        with open(\"%s/%s/outputs/%s\" % (input_path, sped, paper),\n",
    "                  \"r\",\n",
    "                  encoding='UTF-8') as f:\n",
    "            ano = json.load(f)\n",
    "\n",
    "        evi_list = []\n",
    "        evis_list = []\n",
    "\n",
    "        if ano[\"outputs\"] != {}:\n",
    "            for i in ano[\"outputs\"][\"annotation\"][\"A\"]:\n",
    "                if len(i) > 1:\n",
    "\n",
    "                    # 保存所有信息到pattern\n",
    "                    if i[\"name\"] in ent:\n",
    "                        pattern[i[\"name\"]] = i[\"value\"]\n",
    "\n",
    "                    # 获取标注的是否是病原菌的信息\n",
    "                    if i[\"name\"] == \"证据等级\":\n",
    "                        evi_list.append(i[\"value\"])\n",
    "\n",
    "            # j为原文本\n",
    "            for j in ano[\"outputs\"][\"annotation\"][\"T\"]:\n",
    "                if j is not None:\n",
    "                    if len(j) > 1:\n",
    "\n",
    "                        # 获取标注的判断病原菌的文本\n",
    "                        if j[\"name\"] == \"物种\":\n",
    "                            pattern[\"物种名称\"] = j[\"value\"]\n",
    "\n",
    "                        # 获取标注的判断证据等级的文本\n",
    "                        if j[\"name\"] == \"证据等级\":\n",
    "\n",
    "                            # 比较等级\n",
    "                            evis_list.append(j[\"value\"])\n",
    "                            if len(evis_list) > 1:\n",
    "                                evi_new = evi_list[len(evis_list)-1]\n",
    "                                evi_old = evi_list[len(evi_list)-2]\n",
    "                                if evi_new < evi_old:\n",
    "                                    pattern[\"证据等级\"] == j[\"value\"]\n",
    "                                    # 获取证据等级所在的整个句子\n",
    "                                    new_start = ano[\"content\"].rfind(\n",
    "                                        \".\", 0, j[\"start\"])\n",
    "                                    new_end = ano[\"content\"].find(\n",
    "                                        \".\", j[\"end\"], -1)\n",
    "                                    evi_txt = ano[\"content\"][new_start+1:new_end+1]\n",
    "                                    pattern[\"answer\"] = j[\"value\"]\n",
    "                                    pattern[\"old_start\"] = j[\"start\"]\n",
    "                                    pattern[\"old_end\"] = j[\"end\"]\n",
    "                                    pattern[\"sup_evi\"] = evi_txt\n",
    "                                    pattern[\"new_start\"] = new_start + 1\n",
    "                                    pattern[\"new_end\"] = new_end + 1\n",
    "                            else:\n",
    "                                new_start = ano[\"content\"].rfind(\n",
    "                                    \".\", 0, j[\"start\"])\n",
    "                                new_end = ano[\"content\"].find(\n",
    "                                    \".\", j[\"end\"], -1)\n",
    "                                evi_txt = ano[\"content\"][new_start+1:new_end+1]\n",
    "                                pattern[\"answer\"] = j[\"value\"]\n",
    "                                pattern[\"old_start\"] = j[\"start\"]\n",
    "                                pattern[\"old_end\"] = j[\"end\"]\n",
    "                                pattern[\"sup_evi\"] = evi_txt\n",
    "                                pattern[\"new_start\"] = new_start + 1\n",
    "                                pattern[\"new_end\"] = new_end + 1\n",
    "\n",
    "            pattern[\"id\"] = 'https://pubmed.ncbi.nlm.nih.gov/%s/' % paper.replace(\n",
    "                \".json\", \"\")\n",
    "\n",
    "            collection[paper.replace(\".json\", \"\")] = pattern\n",
    "\n",
    "    df = pd.DataFrame(collection).T\n",
    "    df.to_excel(\"文献标注/%s.xls\" % (sped))\n"
   ],
   "outputs": [
    {
     "output_type": "stream",
     "name": "stderr",
     "text": [
      "<ipython-input-18-4b1ff039fb97>:95: FutureWarning: As the xlwt package is no longer maintained, the xlwt engine will be removed in a future version of pandas. This is the only engine in pandas that supports writing in the xls format. Install openpyxl and write to an xlsx file instead. You can set the option io.excel.xls.writer to 'xlwt' to silence this warning. While this option is deprecated and will also raise a warning, it can be globally set and the warning suppressed.\n",
      "  df.to_excel(\"文献标注/%s.xls\" % (sped))\n"
     ]
    }
   ],
   "metadata": {}
  },
  {
   "cell_type": "markdown",
   "source": [
    "# 添加支持证据"
   ],
   "metadata": {}
  },
  {
   "cell_type": "code",
   "execution_count": 3,
   "source": [
    "add_list = [ele for ele in os.listdir(\"文献标注-校对\") if \"_add\" in ele]\n",
    "ori_list = [ele for ele in os.listdir(\"文献标注\") if \"-\" in ele]\n",
    "for add in add_list:\n",
    "    df = pd.read_excel(\"文献标注-校对/%s\" % add, header=0, index_col=0)\n",
    "    \n",
    "    dfo_l = []\n",
    "    for ori in ori_list:\n",
    "        if ori.split(\"-\")[0] in add:\n",
    "            dfo = pd.read_excel(\"文献标注/%s\" % ori, header=0, index_col=0)\n",
    "            dfo_l.append(dfo)\n",
    "    for idx in dfo.index:\n",
    "        if pd.isna(dfo.loc[idx, \"sup_evi\"]) is True:\n",
    "            dfo.loc[idx, \"answer\"] =  dfo.loc[idx, \"answer\"]\n",
    "            dfo.loc[idx, \"old_start\"] = dfo_l[0].loc[idx, \"old_start\"]\n",
    "            dfo.loc[idx, \"old_end\"] = dfo_l[0].loc[idx, \"old_end\"]\n",
    "            dfo.loc[idx, \"sup_evi\"] = dfo_l[0].loc[idx, \"sup_evi\"]\n",
    "            dfo.loc[idx, \"new_start\"] = dfo_l[0].loc[idx, \"new_start\"]\n",
    "            dfo.loc[idx, \"new_end\"] = dfo_l[0].loc[idx, \"new_end\"]\n",
    "    df[\"sup_evi\"] = dfo[\"sup_evi\"]\n",
    "    df.to_excel(\"文献标注-校对/%s\" % add.replace(\"add\", \"env\"))"
   ],
   "outputs": [
    {
     "output_type": "stream",
     "name": "stderr",
     "text": [
      "<ipython-input-3-f0b1b73660a5>:20: FutureWarning: As the xlwt package is no longer maintained, the xlwt engine will be removed in a future version of pandas. This is the only engine in pandas that supports writing in the xls format. Install openpyxl and write to an xlsx file instead. You can set the option io.excel.xls.writer to 'xlwt' to silence this warning. While this option is deprecated and will also raise a warning, it can be globally set and the warning suppressed.\n",
      "  df.to_excel(\"文献标注-校对/%s\" % add.replace(\"add\", \"env\"))\n"
     ]
    }
   ],
   "metadata": {}
  },
  {
   "cell_type": "code",
   "execution_count": null,
   "source": [],
   "outputs": [],
   "metadata": {}
  }
 ],
 "metadata": {
  "kernelspec": {
   "name": "python3",
   "display_name": "Python 3.8.8 64-bit ('base': conda)"
  },
  "language_info": {
   "codemirror_mode": {
    "name": "ipython",
    "version": 3
   },
   "file_extension": ".py",
   "mimetype": "text/x-python",
   "name": "python",
   "nbconvert_exporter": "python",
   "pygments_lexer": "ipython3",
   "version": "3.8.8"
  },
  "interpreter": {
   "hash": "214392d51fb2c1897b3bd3ad6aaa927e6326499bab7564d3ffedfb7cce17d6fb"
  }
 },
 "nbformat": 4,
 "nbformat_minor": 4
}