{
 "cells": [
  {
   "cell_type": "markdown",
   "metadata": {},
   "source": [
    "# Import packages"
   ]
  },
  {
   "cell_type": "code",
   "execution_count": 3,
   "metadata": {
    "Collapsed": "false"
   },
   "outputs": [],
   "source": [
    "import os\n",
    "import numpy as np\n",
    "import pandas as pd\n",
    "import json\n",
    "from copy import deepcopy\n",
    "import re\n",
    "# -*- coding:utf-8 -*-"
   ]
  },
  {
   "cell_type": "markdown",
   "metadata": {},
   "source": [
    "#"
   ]
  },
  {
   "cell_type": "markdown",
   "metadata": {},
   "source": [
    "## 将标注文档转成excel"
   ]
  },
  {
   "cell_type": "code",
   "execution_count": null,
   "metadata": {
    "tags": []
   },
   "outputs": [],
   "source": [
    "input_path = \"input\"\n",
    "sped_l = os.listdir(input_path)\n",
    "ent = [\"是否是致病菌\",\"样本量\",\"患者性别\",\"年龄\",\"免疫状态\",\"肺部基础疾病\",\"证据等级\",\"预后\"]\n",
    "\n",
    "for sped in sped_l:\n",
    "    print(sped)\n",
    "    collection = {}\n",
    "    paper_l = os.listdir(\"%s/%s/outputs\" % (input_path, sped))\n",
    "    paper_l = [ele for ele in paper_l if \"json\" in ele]\n",
    "    \n",
    "    for paper in paper_l:\n",
    "        print(paper)\n",
    "        pattern = {\"物种名称\":\"\", \"是否是致病菌\":\"\",\n",
    "            \"样本量\":\"\",\n",
    "            \"患者性别\":\"\",\n",
    "            \"年龄\":\"\",\n",
    "            \"免疫状态\":\"\",\n",
    "            \"肺部基础疾病\":\"\",\n",
    "            \"证据等级\":\"\",\n",
    "            \"预后\":\"\"}\n",
    "        \n",
    "        with open(\"%s/%s/outputs/%s\" % (input_path, sped, paper), \"r\",  encoding='UTF-8') as f:\n",
    "            ano = json.load(f)\n",
    "            \n",
    "        if ano[\"outputs\"] != {}:\n",
    "            for i in ano[\"outputs\"][\"annotation\"][\"A\"]:\n",
    "                if len(i) > 1:\n",
    "                    if i[\"name\"] in ent:\n",
    "                        pattern[i[\"name\"]] = i[\"value\"]\n",
    "\n",
    "                    if i[\"name\"] == \"是否是致病菌\":\n",
    "                        for j in ano[\"outputs\"][\"annotation\"][\"T\"]: \n",
    "                            if j is not None:\n",
    "                                if len(j) > 1:\n",
    "                                    if j[\"name\"] == \"物种\":\n",
    "                                        pattern[\"物种名称\"] = j[\"value\"]\n",
    "            pattern[\"id\"] = 'https://pubmed.ncbi.nlm.nih.gov/%s/' % paper.replace(\".json\", \"\")\n",
    "\n",
    "            collection[paper.replace(\".json\", \"\")] = pattern\n",
    "    df = pd.DataFrame(collection).T\n",
    "#     df.to_excel(\"%s.xls\" % (sped))"
   ]
  }
 ],
 "metadata": {
  "kernelspec": {
   "display_name": "Python 3",
   "language": "python",
   "name": "python3"
  },
  "language_info": {
   "codemirror_mode": {
    "name": "ipython",
    "version": 3
   },
   "file_extension": ".py",
   "mimetype": "text/x-python",
   "name": "python",
   "nbconvert_exporter": "python",
   "pygments_lexer": "ipython3",
   "version": "3.8.3"
  }
 },
 "nbformat": 4,
 "nbformat_minor": 4
}
