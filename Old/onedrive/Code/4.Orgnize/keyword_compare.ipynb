{
 "cells": [
  {
   "cell_type": "code",
   "execution_count": 20,
   "metadata": {
    "Collapsed": "false"
   },
   "outputs": [],
   "source": [
    "import os\n",
    "import numpy as np\n",
    "import pandas as pd\n",
    "import json\n"
   ]
  },
  {
   "cell_type": "code",
   "execution_count": 49,
   "metadata": {
    "Collapsed": "false"
   },
   "outputs": [],
   "source": [
    "a = os.listdir(\"../3.KeyWord/output/\")\n",
    "i = []\n",
    "m = []\n",
    "j = []\n",
    "k = []\n",
    "l = []\n",
    "for aa in a:\n",
    "    b = os.listdir(\"../3.KeyWord/output/%s\" % aa)\n",
    "    j = j + b\n",
    "    for bb in b:\n",
    "        c = os.listdir(\"../3.KeyWord/output/%s/%s\" % (aa,bb))\n",
    "        for cc in c:\n",
    "            d = os.listdir(\"../3.KeyWord/output/%s/%s/%s\" % (aa, bb, cc))\n",
    "            if len(d) > 20:\n",
    "                k.append(bb)\n",
    "            else:\n",
    "                m = m + d\n",
    "                l.append(bb)\n",
    "            i = i + d"
   ]
  },
  {
   "cell_type": "code",
   "execution_count": 51,
   "metadata": {},
   "outputs": [
    {
     "data": {
      "text/plain": [
       "4080"
      ]
     },
     "execution_count": 51,
     "metadata": {},
     "output_type": "execute_result"
    }
   ],
   "source": [
    "len(np.unique(m))"
   ]
  },
  {
   "cell_type": "code",
   "execution_count": 50,
   "metadata": {
    "Collapsed": "false"
   },
   "outputs": [
    {
     "data": {
      "text/plain": [
       "array(['Achromobacter_xylosoxidans', 'Acinetobacter_baumannii',\n",
       "       'Acinetobacter_calcoaceticus', 'Actinomyces', 'Actinomyces_meyeri',\n",
       "       'Aeromonas_hydrophila', 'Bacillus_anthracis', 'Bacillus_cereus',\n",
       "       'Bacillus_subtilis', 'Bacteroides_fragilis', 'Bifidobacterium',\n",
       "       'Bordetella_avium', 'Bordetella_bronchiseptica',\n",
       "       'Bordetella_holmesii', 'Bordetella_pertussis',\n",
       "       'Burkholderia_cenocepacia', 'Burkholderia_cepacia',\n",
       "       'Burkholderia_multivorans', 'Burkholderia_pseudomallei',\n",
       "       'Campylobacter_jejuni', 'Chlamydia_muridarum',\n",
       "       'Chlamydia_pneumoniae', 'Chlamydia_psittaci',\n",
       "       'Chlamydia_trachomatis', 'Chryseobacterium_indologenes',\n",
       "       'Citrobacter_freundii', 'Clostridium_difficile',\n",
       "       'Clostridium_perfringens', 'Corynebacterium_pseudodiphtheriticum',\n",
       "       'Coxiella_burnetii', 'Enterobacter_aerogenes',\n",
       "       'Enterobacter_cloacae', 'Enterococcus_faecalis',\n",
       "       'Enterococcus_faecium', 'Escherichia_coli',\n",
       "       'Francisella_tularensis', 'Fusobacterium_necrophorum',\n",
       "       'Fusobacterium_nucleatum', 'Haemophilus_haemolyticus',\n",
       "       'Haemophilus_influenzae', 'Haemophilus_parainfluenzae',\n",
       "       'Helicobacter_pylori', 'Klebsiella_oxytoca',\n",
       "       'Klebsiella_pneumoniae', 'Lactobacillus', 'Legionella_longbeachae',\n",
       "       'Legionella_micdadei', 'Legionella_pneumophila',\n",
       "       'Listeria_monocytogenes', 'Moraxella_catarrhalis',\n",
       "       'Mycobacterium_abscessus', 'Mycobacterium_africanum',\n",
       "       'Mycobacterium_avium', 'Mycobacterium_bovis',\n",
       "       'Mycobacterium_celatum', 'Mycobacterium_chimaera',\n",
       "       'Mycobacterium_genavense', 'Mycobacterium_kansasii',\n",
       "       'Mycobacterium_lentiflavum', 'Mycobacterium_malmoense',\n",
       "       'Mycobacterium_simiae', 'Mycobacterium_tuberculosis',\n",
       "       'Mycobacterium_xenopi', 'Mycoplasma_hominis',\n",
       "       'Mycoplasma_pneumoniae', 'Neisseria_gonorrhoeae',\n",
       "       'Neisseria_meningitidis', 'Nocardia_asteroides_',\n",
       "       'Nocardia_cyriacigeorgica_', 'Nocardia_farcinica_',\n",
       "       'Nocardia_nova_', 'Nocardia_otitidiscaviarum_',\n",
       "       'Pasteurella_multocida', 'Peptostreptococcus', 'Porphyromonas',\n",
       "       'Porphyromonas_gingivalis', 'Prevotella', 'Proteus_mirabilis',\n",
       "       'Proteus_vulgaris', 'Pseudomonas_aeruginosa', 'Rhodococcus_equi',\n",
       "       'Rothia_mucilaginosa', 'Salmonella_enterica',\n",
       "       'Serratia_marcescens', 'Staphylococcus_aureus',\n",
       "       'Staphylococcus_epidermidis', 'Stenotrophomonas_maltophilia',\n",
       "       'Streptococcus_agalactiae', 'Streptococcus_anginosus',\n",
       "       'Streptococcus_constellatus', 'Streptococcus_dysgalactiae',\n",
       "       'Streptococcus_iniae', 'Streptococcus_intermedius',\n",
       "       'Streptococcus_milleri', 'Streptococcus_mitis',\n",
       "       'Streptococcus_mutans', 'Streptococcus_oralis',\n",
       "       'Streptococcus_pneumoniae', 'Streptococcus_pyogenes',\n",
       "       'Streptococcus_salivarius', 'Streptococcus_suis', 'Ureaplasma',\n",
       "       'Yersinia_pestis'], dtype='<U36')"
      ]
     },
     "execution_count": 50,
     "metadata": {},
     "output_type": "execute_result"
    }
   ],
   "source": [
    "np.unique(k)"
   ]
  },
  {
   "cell_type": "code",
   "execution_count": null,
   "metadata": {},
   "outputs": [],
   "source": []
  }
 ],
 "metadata": {
  "kernelspec": {
   "display_name": "Python 3",
   "language": "python",
   "name": "python3"
  },
  "language_info": {
   "codemirror_mode": {
    "name": "ipython",
    "version": 3
   },
   "file_extension": ".py",
   "mimetype": "text/x-python",
   "name": "python",
   "nbconvert_exporter": "python",
   "pygments_lexer": "ipython3",
   "version": "3.8.3"
  }
 },
 "nbformat": 4,
 "nbformat_minor": 4
}
