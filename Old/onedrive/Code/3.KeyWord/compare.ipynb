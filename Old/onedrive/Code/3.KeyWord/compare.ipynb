{
 "cells": [
  {
   "cell_type": "code",
   "execution_count": 2,
   "metadata": {},
   "outputs": [],
   "source": [
    "import json\n",
    "import compare"
   ]
  },
  {
   "cell_type": "code",
   "execution_count": 11,
   "metadata": {},
   "outputs": [
    {
     "name": "stdout",
     "output_type": "stream",
     "text": [
      "['Anaerobic', 'Corynebacterium', 'Curved', 'Enterococcus', 'GramN', 'GramPc', 'GramPr', 'Intracellular', 'Listeria', 'Nocardia', 'Other', 'Other2', 'Staphylococcus', 'Streptococcus']\n"
     ]
    }
   ],
   "source": [
    "import importlib\n",
    "importlib.reload(compare)\n",
    "keyword = json.load(open(\"keyword.json\", \"r\"))\n",
    "input_path = \"../2.PubTator/output\"\n",
    "output_path = \"output\"\n",
    "compare.compare(input_path, output_path, keyword, keyp=\"ALL\")"
   ]
  },
  {
   "cell_type": "code",
   "execution_count": null,
   "metadata": {},
   "outputs": [],
   "source": []
  }
 ],
 "metadata": {
  "kernelspec": {
   "display_name": "Python 3",
   "language": "python",
   "name": "python3"
  },
  "language_info": {
   "codemirror_mode": {
    "name": "ipython",
    "version": 3
   },
   "file_extension": ".py",
   "mimetype": "text/x-python",
   "name": "python",
   "nbconvert_exporter": "python",
   "pygments_lexer": "ipython3",
   "version": "3.8.3"
  }
 },
 "nbformat": 4,
 "nbformat_minor": 4
}
