{
 "cells": [
  {
   "cell_type": "code",
   "execution_count": 2,
   "metadata": {},
   "outputs": [],
   "source": [
    "import numpy as np\n",
    "import pandas as pd\n",
    "import json\n",
    "import importlib\n",
    "import pubmed_search \n"
   ]
  },
  {
   "cell_type": "code",
   "execution_count": 3,
   "metadata": {
    "Collapsed": "false",
    "tags": []
   },
   "outputs": [
    {
     "output_type": "stream",
     "name": "stdout",
     "text": [
      "Enterococcus.txt\n",
      "Other.txt\n",
      "Staphylococcus.txt\n",
      "Streptococcus.txt\n",
      "Streptococcus anginosus AND  pneumonia  Total:  32\n",
      "Streptococcus anginosus AND  bronchitis  Total:  1\n",
      "Streptococcus anginosus AND  lung  Total:  42\n",
      "Streptococcus anginosus AND  pulmonary  Total:  66\n",
      "Streptococcus anginosus AND  respiratory  Total:  56\n",
      "Streptococcus anginosus AND  infection  Total:  566\n",
      "Streptococcus anginosus AND  empyema  Total:  44\n",
      "Streptococcus anginosus AND  abscess Total:  199\n",
      "Streptococcus dysgalactiae AND  pneumonia  Total:  15\n",
      "Streptococcus dysgalactiae AND  bronchitis  Total:  2\n",
      "Streptococcus dysgalactiae AND  lung  Total:  8\n",
      "Streptococcus dysgalactiae AND  pulmonary  Total:  8\n",
      "Streptococcus dysgalactiae AND  respiratory  Total:  33\n",
      "Streptococcus dysgalactiae AND  infection  Total:  540\n",
      "Streptococcus dysgalactiae AND  empyema  Total:  1\n",
      "Streptococcus dysgalactiae AND  abscess Total:  11\n"
     ]
    }
   ],
   "source": [
    "importlib.reload(pubmed_search)\n",
    "\n",
    "keyword = json.load(open(\"keyword.json\", \"r\"))\n",
    "\n",
    "pubmed_search.query(\n",
    "    input_path=\"input\", output_path=\"output\", \n",
    "    keyword=keyword[\"Normal\"], keyp=\"Mesh\"\n",
    "    ret_max=100, step=100, \n",
    "    fur_query=False)"
   ]
  },
  {
   "cell_type": "code",
   "execution_count": null,
   "metadata": {},
   "outputs": [],
   "source": []
  }
 ],
 "metadata": {
  "kernelspec": {
   "display_name": "Python 3",
   "language": "python",
   "name": "python3"
  },
  "language_info": {
   "codemirror_mode": {
    "name": "ipython",
    "version": 3
   },
   "file_extension": ".py",
   "mimetype": "text/x-python",
   "name": "python",
   "nbconvert_exporter": "python",
   "pygments_lexer": "ipython3",
   "version": "3.8.3-final"
  }
 },
 "nbformat": 4,
 "nbformat_minor": 4
}