{
 "cells": [
  {
   "cell_type": "code",
   "execution_count": 1,
   "metadata": {},
   "outputs": [
    {
     "data": {
      "text/plain": [
       "<module 'pubmed_search' from 'D:\\\\share\\\\REP\\\\1.Search\\\\pubmed_search.py'>"
      ]
     },
     "execution_count": 1,
     "metadata": {},
     "output_type": "execute_result"
    }
   ],
   "source": [
    "import numpy as np\n",
    "import pandas as pd\n",
    "import importlib\n",
    "\n",
    "import pubmed_search \n",
    "importlib.reload(pubmed_search)\n",
    "import keyword\n",
    "importlib.reload(keyword)\n"
   ]
  },
  {
   "cell_type": "code",
   "execution_count": 2,
   "metadata": {
    "Collapsed": "false"
   },
   "outputs": [
    {
     "name": "stdout",
     "output_type": "stream",
     "text": [
      "Corynebacterium accolens Total:  26\n",
      "Corynebacterium accolens AND pneumonia Total:  1\n",
      "Corynebacterium accolens AND bronchitis Total:  1\n",
      "Corynebacterium accolens AND lung Total:  1\n",
      "Corynebacterium accolens AND pulmonary Total:  2\n",
      "Corynebacterium accolens AND respiratory Total:  7\n",
      "Corynebacterium accolens AND infection Total:  20\n",
      "Corynebacterium accolens AND empyema Total:  0\n",
      "Corynebacterium accolens AND abscess Total:  1\n"
     ]
    }
   ],
   "source": [
    "spec_l = [\"Corynebacterium accolens\"]\n",
    "\n",
    "pubmed_search.query(spec_l, keyword)"
   ]
  },
  {
   "cell_type": "code",
   "execution_count": null,
   "metadata": {},
   "outputs": [],
   "source": []
  }
 ],
 "metadata": {
  "kernelspec": {
   "display_name": "Python 3",
   "language": "python",
   "name": "python3"
  },
  "language_info": {
   "codemirror_mode": {
    "name": "ipython",
    "version": 3
   },
   "file_extension": ".py",
   "mimetype": "text/x-python",
   "name": "python",
   "nbconvert_exporter": "python",
   "pygments_lexer": "ipython3",
   "version": "3.8.3"
  }
 },
 "nbformat": 4,
 "nbformat_minor": 4
}
