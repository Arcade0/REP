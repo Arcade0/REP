{
 "cells": [
  {
   "cell_type": "code",
   "execution_count": 1,
   "metadata": {},
   "outputs": [
    {
     "name": "stdout",
     "output_type": "stream",
     "text": [
      "['0304089171', '0304089172', '0628175010', '0628175011', '0719885385', '0719885386', '1101513928', '1101513929', '2044897762', '2044897763', '2426206509', '2426206510', '2442186214', '2442186215', '3172686009', '3172686010', '3516616716', '3516616717', '3829176423', '3829176424', '3829176425']\n"
     ]
    }
   ],
   "source": [
    "import os\n",
    "\n",
    "a = os.listdir()\n",
    "b = [ele for ele in a if \".ipynb\" not in ele]\n",
    "print(b)"
   ]
  },
  {
   "cell_type": "code",
   "execution_count": null,
   "metadata": {},
   "outputs": [],
   "source": []
  }
 ],
 "metadata": {
  "kernelspec": {
   "display_name": "Python 3",
   "language": "python",
   "name": "python3"
  },
  "language_info": {
   "codemirror_mode": {
    "name": "ipython",
    "version": 3
   },
   "file_extension": ".py",
   "mimetype": "text/x-python",
   "name": "python",
   "nbconvert_exporter": "python",
   "pygments_lexer": "ipython3",
   "version": "3.8.3"
  }
 },
 "nbformat": 4,
 "nbformat_minor": 4
}
