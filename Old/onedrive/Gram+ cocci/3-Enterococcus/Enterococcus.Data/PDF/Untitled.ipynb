{
 "cells": [
  {
   "cell_type": "code",
   "execution_count": 1,
   "metadata": {},
   "outputs": [
    {
     "name": "stdout",
     "output_type": "stream",
     "text": [
      "['0304089172', '0412776091', '0719885386', '1350490027', '1726956429', '1801979802', '1914544919', '1967513926', '2044897763', '2381148771', '2442186215', '3172686010', '3273381815', '3450939384', '3797244140', '3803961690', '3829176425', '3862120563', '4121077972']\n"
     ]
    }
   ],
   "source": [
    "import os\n",
    "\n",
    "a = os.listdir()\n",
    "b = [ele for ele in a if \".ipynb\" not in ele]\n",
    "print(b)"
   ]
  },
  {
   "cell_type": "code",
   "execution_count": null,
   "metadata": {},
   "outputs": [],
   "source": []
  }
 ],
 "metadata": {
  "kernelspec": {
   "display_name": "Python 3",
   "language": "python",
   "name": "python3"
  },
  "language_info": {
   "codemirror_mode": {
    "name": "ipython",
    "version": 3
   },
   "file_extension": ".py",
   "mimetype": "text/x-python",
   "name": "python",
   "nbconvert_exporter": "python",
   "pygments_lexer": "ipython3",
   "version": "3.8.3"
  }
 },
 "nbformat": 4,
 "nbformat_minor": 4
}
