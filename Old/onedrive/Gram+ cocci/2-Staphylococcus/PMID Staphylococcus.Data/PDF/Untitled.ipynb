{
 "cells": [
  {
   "cell_type": "code",
   "execution_count": 5,
   "metadata": {},
   "outputs": [
    {
     "name": "stdout",
     "output_type": "stream",
     "text": [
      "['0304089171', '0304089172', '0628175011', '0719885385', '0719885386', '0943947739', '0945117276', '0959997301', '1101513929', '1129566413', '1330573317', '1374344043', '1734575198', '2044897762', '2044897763', '2053999932', '2369042088', '2426206510', '2442186214', '2442186215', '2639189051', '2953234494', '3006968069', '3130390644', '3172686009', '3172686010', '3289099772', '3342437513', '3516616717', '3829176424', '3829176425', '4059243604', '4084960732', '4103781187', '4123444026', '4146382462', '4262221745']\n"
     ]
    }
   ],
   "source": [
    "import os\n",
    "\n",
    "a = os.listdir()\n",
    "b = [ele for ele in a if \".ipynb\" not in ele]\n",
    "print(b)"
   ]
  },
  {
   "cell_type": "code",
   "execution_count": null,
   "metadata": {},
   "outputs": [],
   "source": []
  }
 ],
 "metadata": {
  "kernelspec": {
   "display_name": "Python 3",
   "language": "python",
   "name": "python3"
  },
  "language_info": {
   "codemirror_mode": {
    "name": "ipython",
    "version": 3
   },
   "file_extension": ".py",
   "mimetype": "text/x-python",
   "name": "python",
   "nbconvert_exporter": "python",
   "pygments_lexer": "ipython3",
   "version": "3.8.3"
  }
 },
 "nbformat": 4,
 "nbformat_minor": 4
}
