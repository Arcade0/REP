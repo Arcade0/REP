{
 "cells": [
  {
   "cell_type": "code",
   "execution_count": 5,
   "metadata": {},
   "outputs": [
    {
     "data": {
      "text/plain": [
       "<module 'pubmed_search' from 'D:\\\\share\\\\REP\\\\1.Search\\\\pubmed_search.py'>"
      ]
     },
     "execution_count": 5,
     "metadata": {},
     "output_type": "execute_result"
    }
   ],
   "source": [
    "import numpy as np\n",
    "import pandas as pd\n",
    "import pubmed_search \n",
    "import importlib\n",
    "importlib.reload(pubmed_search)"
   ]
  },
  {
   "cell_type": "code",
   "execution_count": 6,
   "metadata": {
    "Collapsed": "false"
   },
   "outputs": [
    {
     "name": "stdout",
     "output_type": "stream",
     "text": [
      "Corynebacterium_accolens Total:  22\n",
      "Corynebacterium_accolens AND pneumonia Total:  0\n",
      "Corynebacterium_accolens AND bronchitis Total:  0\n",
      "Corynebacterium_accolens AND lung Total:  1\n",
      "Corynebacterium_accolens AND pulmonary Total:  1\n",
      "Corynebacterium_accolens AND respiratory Total:  6\n",
      "Corynebacterium_accolens AND infection Total:  16\n",
      "Corynebacterium_accolens AND empyema Total:  0\n",
      "Corynebacterium_accolens AND abscess Total:  1\n"
     ]
    }
   ],
   "source": [
    "keyword = [\"pneumonia\", \"bronchitis\", \"lung\", \n",
    "           \"pulmonary\", \"respiratory\", \"infection\", \n",
    "           \"empyema\", \"abscess\"]\n",
    "spec_l = [\"Corynebacterium_accolens\"]\n",
    "date = \"(1900/01/01[Date - Publication] : \\\n",
    "2021/12/31[Date - Publication])\"\n",
    "pubmed_search.query(spec_l, keyword, date, \n",
    "      ret_max=100, step=100, \n",
    "      fur_query=False)"
   ]
  },
  {
   "cell_type": "code",
   "execution_count": null,
   "metadata": {
    "Collapsed": "false"
   },
   "outputs": [],
   "source": []
  }
 ],
 "metadata": {
  "kernelspec": {
   "display_name": "Python 3",
   "language": "python",
   "name": "python3"
  },
  "language_info": {
   "codemirror_mode": {
    "name": "ipython",
    "version": 3
   },
   "file_extension": ".py",
   "mimetype": "text/x-python",
   "name": "python",
   "nbconvert_exporter": "python",
   "pygments_lexer": "ipython3",
   "version": "3.8.3"
  }
 },
 "nbformat": 4,
 "nbformat_minor": 4
}
