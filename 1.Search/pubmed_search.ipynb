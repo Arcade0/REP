{
 "cells": [
  {
   "cell_type": "code",
   "execution_count": 27,
   "metadata": {},
   "outputs": [
    {
     "output_type": "execute_result",
     "data": {
      "text/plain": [
       "<module 'pubmed_search' from 'd:\\\\share\\\\REP\\\\1.Search\\\\pubmed_search.py'>"
      ]
     },
     "metadata": {},
     "execution_count": 27
    }
   ],
   "source": [
    "import numpy as np\n",
    "import pandas as pd\n",
    "import json\n",
    "import importlib\n",
    "import pubmed_search \n"
   ]
  },
  {
   "cell_type": "code",
   "execution_count": 31,
   "metadata": {
    "Collapsed": "false"
   },
   "outputs": [
    {
     "output_type": "stream",
     "name": "stdout",
     "text": [
      "Enterococcus alcedinis AND pneumonia Total:  0\n",
      "Enterococcus alcedinis AND bronchitis Total:  0\n",
      "Enterococcus alcedinis AND lung Total:  0\n",
      "Enterococcus alcedinis AND pulmonary Total:  0\n",
      "Enterococcus alcedinis AND respiratory Total:  0\n",
      "Enterococcus alcedinis AND infection Total:  0\n",
      "Enterococcus alcedinis AND empyema Total:  0\n",
      "Enterococcus alcedinis AND abscess Total:  0\n",
      "Enterococcus alcedinis Total:  1\n",
      "Enterococcus aquimarinus AND pneumonia Total:  0\n",
      "Enterococcus aquimarinus AND bronchitis Total:  0\n",
      "Enterococcus aquimarinus AND lung Total:  0\n",
      "Enterococcus aquimarinus AND pulmonary Total:  0\n",
      "Enterococcus aquimarinus AND respiratory Total:  0\n",
      "Enterococcus aquimarinus AND infection Total:  0\n",
      "Enterococcus aquimarinus AND empyema Total:  0\n"
     ]
    }
   ],
   "source": [
    "importlib.reload(pubmed_search)\n",
    "\n",
    "keyword = json.load(open(\"keyword.json\", \"r\"))\n",
    "\n",
    "pubmed_search.query(\n",
    "    input_path=\"input\", output_path=\"output\", \n",
    "    keyword=keyword,\n",
    "    ret_max=100, step=100, \n",
    "    fur_query=False)"
   ]
  },
  {
   "cell_type": "code",
   "execution_count": null,
   "metadata": {},
   "outputs": [],
   "source": []
  }
 ],
 "metadata": {
  "kernelspec": {
   "display_name": "Python 3",
   "language": "python",
   "name": "python3"
  },
  "language_info": {
   "codemirror_mode": {
    "name": "ipython",
    "version": 3
   },
   "file_extension": ".py",
   "mimetype": "text/x-python",
   "name": "python",
   "nbconvert_exporter": "python",
   "pygments_lexer": "ipython3",
   "version": "3.8.3-final"
  }
 },
 "nbformat": 4,
 "nbformat_minor": 4
}