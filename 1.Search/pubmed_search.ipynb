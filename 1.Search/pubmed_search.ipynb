{
 "cells": [
  {
   "cell_type": "code",
   "execution_count": 1,
   "source": [
    "import numpy as np\n",
    "import pandas as pd\n",
    "import json\n",
    "import importlib\n",
    "import pubmed_search\n"
   ],
   "outputs": [],
   "metadata": {}
  },
  {
   "cell_type": "code",
   "execution_count": null,
   "source": [
    "importlib.reload(pubmed_search)\n",
    "\n",
    "keyword = json.load(open(\"keyword.json\", \"r\"))\n",
    "\n",
    "pubmed_search.query(input_path=\"input\",\n",
    "                    output_path=\"output\",\n",
    "                    keyword=keyword[\"Mesh\"],\n",
    "                    ret_max=100,\n",
    "                    step=100,\n",
    "                    fur_query=False)\n"
   ],
   "outputs": [
    {
     "output_type": "stream",
     "name": "stdout",
     "text": [
      "Anaerobic.txt\n",
      "Curved.txt\n",
      "GramN.txt\n",
      "GramPc.txt\n",
      "GramPr.txt\n",
      "Nocardia abscessus AND pneumonia[Mesh] Total:  1\n",
      "1\n",
      "Nocardia abscessus AND pneumonia Total:  3\n",
      "3\n",
      "Nocardia abscessus Total:  42\n",
      "42\n",
      "Nocardia africana AND pneumonia[Mesh] Total:  0\n",
      "0\n",
      "Nocardia africana AND pneumonia Total:  0\n",
      "0\n",
      "Nocardia africana Total:  16\n",
      "16\n",
      "Nocardia amikacinitolerans AND pneumonia[Mesh] Total:  0\n",
      "0\n",
      "Nocardia amikacinitolerans AND pneumonia Total:  0\n",
      "0\n",
      "Nocardia amikacinitolerans Total:  4\n",
      "4\n",
      "Nocardia anaemiae AND pneumonia[Mesh] Total:  0\n",
      "0\n",
      "Nocardia anaemiae AND pneumonia Total:  0\n",
      "0\n",
      "Nocardia anaemiae Total:  2\n",
      "2\n",
      "Nocardia aobensis AND pneumonia[Mesh] Total:  1\n",
      "1\n",
      "Nocardia aobensis AND pneumonia Total:  1\n",
      "1\n",
      "Nocardia aobensis Total:  9\n",
      "9\n",
      "Nocardia araoensis AND pneumonia[Mesh] Total:  0\n",
      "0\n",
      "Nocardia araoensis AND pneumonia Total:  0\n",
      "0\n",
      "Nocardia araoensis Total:  10\n",
      "10\n",
      "Nocardia arthritidis AND pneumonia[Mesh] Total:  0\n",
      "0\n",
      "Nocardia arthritidis AND pneumonia Total:  0\n",
      "0\n",
      "Nocardia arthritidis Total:  18\n",
      "18\n",
      "Nocardia asiatica AND pneumonia[Mesh] Total:  4\n",
      "4\n",
      "Nocardia asiatica AND pneumonia Total:  5\n",
      "5\n",
      "Nocardia asiatica Total:  24\n",
      "24\n",
      "Nocardia asteroides AND pneumonia[Mesh] Total:  128\n",
      "100\n",
      "Nocardia asteroides AND pneumonia Total:  167\n",
      "100\n"
     ]
    }
   ],
   "metadata": {
    "Collapsed": "false",
    "collapsed": true,
    "jupyter": {
     "outputs_hidden": true
    },
    "tags": []
   }
  },
  {
   "cell_type": "code",
   "execution_count": null,
   "source": [],
   "outputs": [],
   "metadata": {}
  }
 ],
 "metadata": {
  "kernelspec": {
   "display_name": "Python 3",
   "language": "python",
   "name": "python3"
  },
  "language_info": {
   "codemirror_mode": {
    "name": "ipython",
    "version": 3
   },
   "file_extension": ".py",
   "mimetype": "text/x-python",
   "name": "python",
   "nbconvert_exporter": "python",
   "pygments_lexer": "ipython3",
   "version": "3.8.8"
  }
 },
 "nbformat": 4,
 "nbformat_minor": 4
}