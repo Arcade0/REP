{
 "cells": [
  {
   "cell_type": "code",
   "execution_count": 1,
   "source": [
    "import json\r\n",
    "import compare"
   ],
   "outputs": [],
   "metadata": {}
  },
  {
   "cell_type": "code",
   "execution_count": 3,
   "source": [
    "import importlib\r\n",
    "\r\n",
    "importlib.reload(compare)\r\n",
    "keyword = json.load(open(\"keyword.json\", \"r\"))\r\n",
    "input_path = \"../2.PubTator/output\"\r\n",
    "output_path = \"output_mesh\"\r\n",
    "compare.compare(input_path, output_path, keyword, keyp=\"Mesh\")"
   ],
   "outputs": [
    {
     "output_type": "stream",
     "name": "stdout",
     "text": [
      "Anaerobic\n",
      "Curved\n",
      "GramN\n",
      "GramPc\n",
      "GramPr\n",
      "Intracellular\n"
     ]
    }
   ],
   "metadata": {}
  },
  {
   "cell_type": "code",
   "execution_count": null,
   "source": [],
   "outputs": [],
   "metadata": {}
  }
 ],
 "metadata": {
  "kernelspec": {
   "display_name": "Python 3",
   "language": "python",
   "name": "python3"
  },
  "language_info": {
   "codemirror_mode": {
    "name": "ipython",
    "version": 3
   },
   "file_extension": ".py",
   "mimetype": "text/x-python",
   "name": "python",
   "nbconvert_exporter": "python",
   "pygments_lexer": "ipython3",
   "version": "3.8.3"
  }
 },
 "nbformat": 4,
 "nbformat_minor": 4
}