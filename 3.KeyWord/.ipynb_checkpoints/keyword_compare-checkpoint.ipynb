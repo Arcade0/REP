{
 "cells": [
  {
   "cell_type": "markdown",
   "metadata": {
    "Collapsed": "false"
   },
   "source": [
    "# Import Packages"
   ]
  },
  {
   "cell_type": "code",
   "execution_count": 7,
   "metadata": {
    "Collapsed": "false"
   },
   "outputs": [],
   "source": [
    "import os\n",
    "import numpy \n",
    "import json\n",
    "import pandas"
   ]
  },
  {
   "cell_type": "markdown",
   "metadata": {
    "Collapsed": "false"
   },
   "source": [
    "# Read KeyWord and Paper"
   ]
  },
  {
   "cell_type": "code",
   "execution_count": 44,
   "metadata": {
    "Collapsed": "false"
   },
   "outputs": [],
   "source": [
    "# read keyword\n",
    "f = open(\"keyword.json\", \"r\")\n",
    "keyword = json.load(f)\n",
    "\n"
   ]
  },
  {
   "cell_type": "code",
   "execution_count": 61,
   "metadata": {
    "Collapsed": "false"
   },
   "outputs": [],
   "source": [
    "# read paper\n",
    "f2 = open(\"../2.PubTator/output_pmid/ex_pmid.json\", \"r\")\n",
    "paper = json.load(f2)\n",
    "\n",
    "title = paper[\"passages\"][0][\"text\"]\n",
    "ab = paper[\"passages\"][1][\"text\"]\n",
    "\n",
    "# read annotation\n",
    "anno = paper[\"passages\"][1][\"annotations\"]\n",
    "\n",
    "# combine \n",
    "anno_l = [i[\"text\"] for i in anno]\n",
    "disease_l = [i['text'] for i in anno if i['infons']['type'] == 'Disease']\n",
    "gene_l = [i['text'] for i in anno if i['infons']['type'] == 'Gene']\n",
    "species_l = [i['text'] for i in anno if i['infons']['type'] == 'Species']"
   ]
  },
  {
   "cell_type": "markdown",
   "metadata": {
    "Collapsed": "false"
   },
   "source": [
    "# Compare it with KeyWord"
   ]
  },
  {
   "cell_type": "code",
   "execution_count": 52,
   "metadata": {},
   "outputs": [],
   "source": [
    "def replace_html_tag(text, word_l):\n",
    "    for word in word_l:\n",
    "        new_word = '<font color=\"red\">' + word + '</font>'\n",
    "        len_w = len(word)\n",
    "        len_t = len(text)\n",
    "        for i in range(len_t - len_w, -1, -1):\n",
    "            if text[i: i + len_w] == word:\n",
    "                text = text[:i] + new_word + text[i + len_w:]\n",
    "    return text\n",
    "\n",
    "\n",
    "def save_html(ls_of_ls, prefix):\n",
    "    fname = prefix + '.html'\n",
    "    with open(fname, 'w', encoding='utf-8') as f:\n",
    "        f.write('<html><head><meta charset=\"UTF-8\"></head><body><table border=\"1\">\\n')\n",
    "        for ls in ls_of_ls:\n",
    "            f.write('<tr>')\n",
    "            for i in ls:\n",
    "                f.write('<td><font size=\"4\">{}</font></td>'.format(i))\n",
    "            f.write('</tr>\\n')\n",
    "        f.write('</table></body></html>')"
   ]
  },
  {
   "cell_type": "code",
   "execution_count": 62,
   "metadata": {},
   "outputs": [],
   "source": [
    "ls_of_ls = []\n",
    "for key in keyword.keys():\n",
    "    ls_of_ls.append([key, replace_html_tag(ab, keyword[key])])\n",
    "ls_of_ls.append([\"Disease\", replace_html_tag(ab, disease_l)])\n",
    "ls_of_ls.append([\"Species\", replace_html_tag(ab, species_l)])\n",
    "ls_of_ls.append([\"Gene\", replace_html_tag(ab, gene_l)])\n",
    "\n",
    "save_html(ls_of_ls, paper_name)"
   ]
  },
  {
   "cell_type": "markdown",
   "metadata": {
    "Collapsed": "false"
   },
   "source": [
    "# Save Positive paper and highlight Sentence"
   ]
  },
  {
   "cell_type": "code",
   "execution_count": null,
   "metadata": {},
   "outputs": [],
   "source": []
  }
 ],
 "metadata": {
  "kernelspec": {
   "display_name": "Python 3",
   "language": "python",
   "name": "python3"
  },
  "language_info": {
   "codemirror_mode": {
    "name": "ipython",
    "version": 3
   },
   "file_extension": ".py",
   "mimetype": "text/x-python",
   "name": "python",
   "nbconvert_exporter": "python",
   "pygments_lexer": "ipython3",
   "version": "3.8.3"
  }
 },
 "nbformat": 4,
 "nbformat_minor": 4
}
