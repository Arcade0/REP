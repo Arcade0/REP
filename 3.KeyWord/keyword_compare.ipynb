{
 "cells": [
  {
   "cell_type": "markdown",
   "metadata": {
    "Collapsed": "false"
   },
   "source": [
    "# Import Packages"
   ]
  },
  {
   "cell_type": "code",
   "execution_count": 73,
   "metadata": {
    "Collapsed": "false"
   },
   "outputs": [],
   "source": [
    "import os\n",
    "import numpy \n",
    "import json\n",
    "import pandas\n",
    "from highlight import replace_html_tag, save_html"
   ]
  },
  {
   "cell_type": "markdown",
   "metadata": {
    "Collapsed": "false"
   },
   "source": [
    "# Read Keyword and Paper"
   ]
  },
  {
   "cell_type": "code",
   "execution_count": 74,
   "metadata": {
    "Collapsed": "false"
   },
   "outputs": [],
   "source": [
    "# read keyword\n",
    "f = open(\"keyword.json\", \"r\")\n",
    "keyword = json.load(f)"
   ]
  },
  {
   "cell_type": "code",
   "execution_count": 75,
   "metadata": {
    "Collapsed": "false"
   },
   "outputs": [],
   "source": [
    "# read paper\n",
    "f2 = open(\"../2.PubTator/output_pmid/ex_pmid.json\", \"r\")\n",
    "paper = json.load(f2)\n",
    "\n",
    "title = paper[\"passages\"][0][\"text\"]\n",
    "ab = paper[\"passages\"][1][\"text\"]\n",
    "\n",
    "# read annotation\n",
    "anno = paper[\"passages\"][1][\"annotations\"]\n",
    "\n",
    "# combine \n",
    "anno_l = [i[\"text\"] for i in anno]\n",
    "disease_l = [i['text'] for i in anno if i['infons']['type'] == 'Disease']\n",
    "gene_l = [i['text'] for i in anno if i['infons']['type'] == 'Gene']\n",
    "species_l = [i['text'] for i in anno if i['infons']['type'] == 'Species']"
   ]
  },
  {
   "cell_type": "markdown",
   "metadata": {
    "Collapsed": "false"
   },
   "source": [
    "# Compare it with Keyword"
   ]
  },
  {
   "cell_type": "code",
   "execution_count": 76,
   "metadata": {},
   "outputs": [],
   "source": [
    "ls_of_ls = []\n",
    "for key in keyword.keys():\n",
    "    ls_of_ls.append([key, replace_html_tag(ab, keyword[key])])\n",
    "ls_of_ls.append([\"Disease\", replace_html_tag(ab, disease_l)])\n",
    "ls_of_ls.append([\"Species\", replace_html_tag(ab, species_l)])\n",
    "ls_of_ls.append([\"Gene\", replace_html_tag(ab, gene_l)])\n",
    "\n",
    "save_html(ls_of_ls, paper_name)"
   ]
  }
 ],
 "metadata": {
  "kernelspec": {
   "display_name": "Python 3",
   "language": "python",
   "name": "python3"
  },
  "language_info": {
   "codemirror_mode": {
    "name": "ipython",
    "version": 3
   },
   "file_extension": ".py",
   "mimetype": "text/x-python",
   "name": "python",
   "nbconvert_exporter": "python",
   "pygments_lexer": "ipython3",
   "version": "3.8.3"
  }
 },
 "nbformat": 4,
 "nbformat_minor": 4
}
