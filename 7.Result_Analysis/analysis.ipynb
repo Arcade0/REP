{
 "cells": [
  {
   "cell_type": "code",
   "execution_count": 1,
   "metadata": {},
   "outputs": [],
   "source": [
    "import pandas as pd\n",
    "import numpy as np\n",
    "import os\n",
    "import json"
   ]
  },
  {
   "cell_type": "code",
   "execution_count": 15,
   "metadata": {},
   "outputs": [],
   "source": [
    "# 人工标注\n",
    "sp_l = [ele for ele in os.listdir(\"./文献标注-校对/\") if \"_add\" in ele]\n",
    "df_l = []\n",
    "\n",
    "for sp in sp_l:\n",
    "\n",
    "    df = pd.read_excel(\"./文献标注-校对/%s\" % sp, header=0)\n",
    "    df = df.loc[df[\"是否是致病菌\"]==\"是\", :]\n",
    "    df = df.fillna(\"\")\n",
    "    for i in df.index:\n",
    "        df.loc[i, \"ID\"] = np.str(df.loc[i, \"ID\"])\n",
    "    dfl = [df.loc[j].to_list() for j in df.index]\n",
    "    df_l.extend(dfl)\n",
    "with open(\"result.json\", \"w\") as f:\n",
    "    js = json.dumps(df_l)\n",
    "    f.write(js)"
   ]
  },
  {
   "cell_type": "code",
   "execution_count": null,
   "metadata": {},
   "outputs": [],
   "source": [
    "# 机器标注\n",
    "path = json.read(file.path(\",,\"))\n"
   ]
  },
  {
   "cell_type": "code",
   "execution_count": 2,
   "metadata": {},
   "outputs": [
    {
     "ename": "NameError",
     "evalue": "name 'sp_l' is not defined",
     "output_type": "error",
     "traceback": [
      "\u001b[1;31m---------------------------------------------------------------------------\u001b[0m",
      "\u001b[1;31mNameError\u001b[0m                                 Traceback (most recent call last)",
      "\u001b[1;32m<ipython-input-2-41cbc60a6a3e>\u001b[0m in \u001b[0;36m<module>\u001b[1;34m\u001b[0m\n\u001b[0;32m      6\u001b[0m \u001b[1;33m\u001b[0m\u001b[0m\n\u001b[0;32m      7\u001b[0m \u001b[0mg\u001b[0m \u001b[1;33m=\u001b[0m \u001b[1;33m[\u001b[0m\u001b[1;33m]\u001b[0m\u001b[1;33m\u001b[0m\u001b[1;33m\u001b[0m\u001b[0m\n\u001b[1;32m----> 8\u001b[1;33m \u001b[1;32mfor\u001b[0m \u001b[0msp\u001b[0m \u001b[1;32min\u001b[0m \u001b[0msp_l\u001b[0m\u001b[1;33m:\u001b[0m\u001b[1;33m\u001b[0m\u001b[1;33m\u001b[0m\u001b[0m\n\u001b[0m\u001b[0;32m      9\u001b[0m \u001b[1;33m\u001b[0m\u001b[0m\n\u001b[0;32m     10\u001b[0m     \u001b[0md\u001b[0m \u001b[1;33m=\u001b[0m \u001b[0mpd\u001b[0m\u001b[1;33m.\u001b[0m\u001b[0mread_excel\u001b[0m\u001b[1;33m(\u001b[0m\u001b[1;34m\"文献标注—校对/%s_add.xls\"\u001b[0m \u001b[1;33m%\u001b[0m \u001b[0msp\u001b[0m\u001b[1;33m,\u001b[0m \u001b[0mindex_col\u001b[0m\u001b[1;33m=\u001b[0m\u001b[1;36m0\u001b[0m\u001b[1;33m,\u001b[0m \u001b[0mheader\u001b[0m\u001b[1;33m=\u001b[0m\u001b[1;36m0\u001b[0m\u001b[1;33m)\u001b[0m\u001b[1;33m\u001b[0m\u001b[1;33m\u001b[0m\u001b[0m\n",
      "\u001b[1;31mNameError\u001b[0m: name 'sp_l' is not defined"
     ]
    }
   ],
   "source": [
    "import matplotlib.pyplot as plt\n",
    "\n",
    "plt.rcParams['font.sans-serif'] = ['SimHei']\n",
    "import seaborn as sns\n",
    "from collections import Counter\n",
    "\n",
    "g = []\n",
    "for sp in sp_l:\n",
    "\n",
    "    d = pd.read_excel(\"文献标注—校对/%s_add.xls\" % sp, index_col=0, header=0)\n",
    "    e = d.loc[d[\"是否是致病菌\"] == \"是\", :]\n",
    "    print(sp, len(e))\n",
    "    f = Counter(e[\"预后\"])\n",
    "    g.append(f)\n",
    "\n",
    "pd.DataFrame(g, index=sp_l)"
   ]
  },
  {
   "cell_type": "code",
   "execution_count": null,
   "metadata": {},
   "outputs": [],
   "source": [
    "# for specc in paper_d:\n",
    "#         if len(paper_d[specc]) > 10:\n",
    "#             for paperr in paper_d[specc]：\n",
    "# #                 with open(\"paper_mdcn/%s/%s.txt\" % (sp, specc+\"_\"+paperr), \"w\") as f:\n",
    "# #                     f.write(paper_md[specc][paperr])\n",
    "# #                     f.close()\n",
    "# #                 with open(\"paper_mdcn/%s/%s_pubtator.json\" % (sp, specc+\"_\"+paperr), \"w\") as f:\n",
    "# #                     b = json.dumps(paper_pmd[specc][paperr])\n",
    "# #                     f.write(b)\n",
    "# #                     f.close()\n",
    "#         else:\n",
    "#             for paperr in paper_ld[specc]:\n",
    "# #                 with open(\"paper_ldcn/%s/%s.txt\" % (sp, specc+\"_\"+paperr), \"w\") as f:\n",
    "# #                     f.write(paper_ld[specc][paperr])\n",
    "# #                     f.close()\n",
    "# #                 with open(\"paper_ldcn/%s/%s_pubtator.json\" % (sp,specc+\"_\"+ paperr), \"w\") as f:\n",
    "# #                     b = json.dumps(paper_pld[specc][paperr])\n",
    "# #                     f.write(b)\n",
    "# #                     f.close()"
   ]
  }
 ],
 "metadata": {
  "interpreter": {
   "hash": "214392d51fb2c1897b3bd3ad6aaa927e6326499bab7564d3ffedfb7cce17d6fb"
  },
  "kernelspec": {
   "display_name": "Python 3.8.8 64-bit ('base': conda)",
   "name": "python3"
  },
  "language_info": {
   "codemirror_mode": {
    "name": "ipython",
    "version": 3
   },
   "file_extension": ".py",
   "mimetype": "text/x-python",
   "name": "python",
   "nbconvert_exporter": "python",
   "pygments_lexer": "ipython3",
   "version": "3.8.8"
  }
 },
 "nbformat": 4,
 "nbformat_minor": 4
}
