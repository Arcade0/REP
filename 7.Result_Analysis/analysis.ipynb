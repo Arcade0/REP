{
 "cells": [
  {
   "cell_type": "code",
   "execution_count": null,
   "source": [
    "import matplotlib.pyplot as plt\r\n",
    "\r\n",
    "plt.rcParams['font.sans-serif'] = ['SimHei']\r\n",
    "import seaborn as sns\r\n",
    "from collections import Counter\r\n",
    "\r\n",
    "g = []\r\n",
    "for sp in sp_l:\r\n",
    "\r\n",
    "    d = pd.read_excel(\"文献标注—校对/%s_add.xls\" % sp, index_col=0, header=0)\r\n",
    "    e = d.loc[d[\"是否是致病菌\"] == \"是\", :]\r\n",
    "    print(sp, len(e))\r\n",
    "    f = Counter(e[\"预后\"])\r\n",
    "    g.append(f)\r\n",
    "\r\n",
    "pd.DataFrame(g, index=sp_l)"
   ],
   "outputs": [],
   "metadata": {}
  },
  {
   "cell_type": "code",
   "execution_count": null,
   "source": [
    "# for specc in paper_d:\r\n",
    "#         if len(paper_d[specc]) > 10:\r\n",
    "#             for paperr in paper_d[specc]：\r\n",
    "# #                 with open(\"paper_mdcn/%s/%s.txt\" % (sp, specc+\"_\"+paperr), \"w\") as f:\r\n",
    "# #                     f.write(paper_md[specc][paperr])\r\n",
    "# #                     f.close()\r\n",
    "# #                 with open(\"paper_mdcn/%s/%s_pubtator.json\" % (sp, specc+\"_\"+paperr), \"w\") as f:\r\n",
    "# #                     b = json.dumps(paper_pmd[specc][paperr])\r\n",
    "# #                     f.write(b)\r\n",
    "# #                     f.close()\r\n",
    "#         else:\r\n",
    "#             for paperr in paper_ld[specc]:\r\n",
    "# #                 with open(\"paper_ldcn/%s/%s.txt\" % (sp, specc+\"_\"+paperr), \"w\") as f:\r\n",
    "# #                     f.write(paper_ld[specc][paperr])\r\n",
    "# #                     f.close()\r\n",
    "# #                 with open(\"paper_ldcn/%s/%s_pubtator.json\" % (sp,specc+\"_\"+ paperr), \"w\") as f:\r\n",
    "# #                     b = json.dumps(paper_pld[specc][paperr])\r\n",
    "# #                     f.write(b)\r\n",
    "# #                     f.close()"
   ],
   "outputs": [],
   "metadata": {}
  }
 ],
 "metadata": {
  "kernelspec": {
   "display_name": "Python 3",
   "language": "python",
   "name": "python3"
  },
  "language_info": {
   "codemirror_mode": {
    "name": "ipython",
    "version": 3
   },
   "file_extension": ".py",
   "mimetype": "text/x-python",
   "name": "python",
   "nbconvert_exporter": "python",
   "pygments_lexer": "ipython3",
   "version": "3.8.3"
  }
 },
 "nbformat": 4,
 "nbformat_minor": 4
}