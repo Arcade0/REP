{
 "cells": [
  {
   "cell_type": "code",
   "execution_count": 2,
   "source": [
    "import os\n",
    "import numpy as np\n",
    "import pandas as pd\n",
    "import json\n",
    "from copy import deepcopy\n",
    "import re\n",
    "# -*- coding:utf-8 -*-"
   ],
   "outputs": [],
   "metadata": {}
  },
  {
   "cell_type": "markdown",
   "source": [
    "# QA训练集"
   ],
   "metadata": {}
  },
  {
   "cell_type": "code",
   "execution_count": 9,
   "source": [
    "anno_path = \"../5.Orgnize/文献标注-校对/\"\n",
    "anno_l = [ele for ele in os.listdir(anno_path) if 'env' in ele]\n",
    "txt_path = \"../4.Label_prepare/paper_ld_old/\"\n",
    "train_qa = []\n",
    "\n",
    "for anno in anno_l:\n",
    "\n",
    "    # 读取标注信息\n",
    "    print(anno)\n",
    "    df = pd.read_excel(\"%s/%s\" % (anno_path, anno), header=0)\n",
    "    df = df.loc[df[\"是否是致病菌\"] == \"是\",:]\n",
    "\n",
    "    # 读取标题和摘要的列用于后续添加标题和摘要\n",
    "    df[\"Title\"] = 0  # 添加文献的信息用于后续的识别\n",
    "    df[\"Ab\"] = 0\n",
    "    df[\"Full\"] = 0\n",
    "\n",
    "    for idx in df.index.tolist():\n",
    "\n",
    "        txt = open(\"%s/%s/%s.txt\" % (txt_path, anno.split(\"_\")[0],\n",
    "                                     df.loc[idx, \"ID\"])).readlines()  # 读取标题和摘要\n",
    "        df.loc[idx, \"Title\"] = txt[2]\n",
    "        df.loc[idx, \"Ab\"] = txt[3]\n",
    "        df.loc[idx, \"Full\"] = txt[2] + txt[3]\n",
    "\n",
    "        # 创建WHAT Question样本\n",
    "        if df.loc[idx, \"是否是致病菌\"] == \"yes\":\n",
    "\n",
    "            qa = {\n",
    "                \"qas\": [\n",
    "                    {\n",
    "                        \"id\": df.loc[idx, \"ID\"],\n",
    "                        \"question\": \"Where was %s measured?\" % df.loc[idx, \"物种名称\"],\n",
    "                        \"answers\": [\n",
    "                            {\n",
    "                                \"text\": df.loc[idx, \"anwser\"],\n",
    "                                \"answer_start\": df.loc[idx, \"old_start\"]\n",
    "                            }\n",
    "                        ]\n",
    "                    }\n",
    "                ],\n",
    "                \"context\": df.loc[idx, \"Full\"]}\n",
    "\n",
    "            train_qa.append(qa)\n",
    "    \n",
    "    df.to_csv(\"input/train/%s_evi.csv\" % anno.split(\"_\")[0], header=True, index=False)\n",
    "\n",
    "train_set = {\n",
    "    \"data\": [{\n",
    "        'paragraphs': train_qa,\n",
    "        'title': \"LungB\"\n",
    "    }],\n",
    "    \"version\": \"LungB\"\n",
    "}\n",
    "json.dump(train_set, open(\"input/train_set_evi.json\", \"w\"))\n"
   ],
   "outputs": [
    {
     "output_type": "stream",
     "name": "stdout",
     "text": [
      "Anaerobic_env.xls\n",
      "Curved_env.xls\n",
      "GramN_env.xls\n",
      "GramPc_env.xls\n",
      "GramPr_env.xls\n",
      "Intracellular_env.xls\n"
     ]
    }
   ],
   "metadata": {
    "tags": []
   }
  },
  {
   "cell_type": "markdown",
   "source": [
    "# 验证"
   ],
   "metadata": {}
  },
  {
   "cell_type": "code",
   "execution_count": 8,
   "source": [
    "import random\n",
    "from random import choice\n",
    "\n",
    "random.seed(10)"
   ],
   "outputs": [],
   "metadata": {
    "collapsed": true,
    "jupyter": {
     "outputs_hidden": true
    },
    "tags": []
   }
  },
  {
   "cell_type": "code",
   "execution_count": null,
   "source": [
    "re = 3\n",
    "\n",
    "# 随机选择验证集\n",
    "eval_qa = random.sample(train_qa, int(len(train_qa) / 5))\n",
    "\n",
    "# 剩下的为训练集并保存\n",
    "ttrain_qa = [ele for ele in train_qa if ele not in eval_qa]\n",
    "ttrain_set = {\n",
    "    \"data\": [{\n",
    "        'paragraphs': ttrain_qa,\n",
    "        'title': \"LungB\"\n",
    "    }],\n",
    "    \"version\": \"LungB\"\n",
    "}\n",
    "json.dump(ttrain_set, open(\"eval/input_%s/ttrain_set.json\" % re, \"w\"))\n",
    "\n",
    "# 讲验证集保存为问题和答案\n",
    "eval_q = []\n",
    "eval_aset = {}\n",
    "\n",
    "for i in eval_qa:\n",
    "\n",
    "    qq = {\n",
    "        'qas': [{\n",
    "            'id': i['qas'][0]['id'],\n",
    "            'question': i['qas'][0]['question']\n",
    "        }],\n",
    "        'context': i['context']\n",
    "    }\n",
    "    eval_q.append(qq)\n",
    "    eval_aset[i['qas'][0]['id']] = i['qas'][0]['answers']\n",
    "\n",
    "eval_qset = {\n",
    "    \"data\": [{\n",
    "        'paragraphs': eval_q,\n",
    "        'title': \"LungB\"\n",
    "    }],\n",
    "    \"version\": \"LungB\"\n",
    "}\n",
    "json.dump(eval_qset, open(\"eval/input_%s/eval_qset.json\" % re, \"w\"))\n",
    "json.dump(eval_aset, open(\"eval/input_%s/eval_aset.json\" % re, \"w\"))\n"
   ],
   "outputs": [],
   "metadata": {
    "collapsed": true,
    "jupyter": {
     "outputs_hidden": true
    },
    "tags": []
   }
  },
  {
   "cell_type": "code",
   "execution_count": 9,
   "source": [
    "re = 3\n",
    "eval_a = json.load(open(\"eval/input_%s/eval_aset.json\" % re, \"r\"))\n",
    "standard = pd.DataFrame(eval_a, index=[\"golden\"]).T\n",
    "prediction = json.load(open(\"eval/output_%s/predictions_.json\" % re, 'r'))\n",
    "prediction = pd.DataFrame(prediction, index=[\"prediction\", \"rate\"]).T\n",
    "prediction[\"cut\"] = 1\n",
    "for i in prediction.index:\n",
    "    if prediction.loc[i, \"rate\"][0] > 0.95:\n",
    "        prediction.loc[i, \"cut\"] = \"yes\"\n",
    "    else:\n",
    "        prediction.loc[i, \"cut\"] = \"no\""
   ],
   "outputs": [],
   "metadata": {}
  },
  {
   "cell_type": "code",
   "execution_count": 10,
   "source": [
    "from sklearn.metrics import accuracy_score, f1_score, precision_score, recall_score\n",
    "\n",
    "accuracy = accuracy_score(standard[\"golden\"],\n",
    "                          prediction[\"cut\"],\n",
    "                          normalize=True,\n",
    "                          sample_weight=None)\n",
    "precision = precision_score(standard[\"golden\"],\n",
    "                            prediction[\"cut\"],\n",
    "                            labels=None,\n",
    "                            pos_label='yes',\n",
    "                            average='binary',\n",
    "                            sample_weight=None,\n",
    "                            zero_division='warn')\n",
    "recall = recall_score(standard[\"golden\"],\n",
    "                      prediction[\"cut\"],\n",
    "                      labels=None,\n",
    "                      pos_label='yes',\n",
    "                      average='binary',\n",
    "                      sample_weight=None,\n",
    "                      zero_division='warn')\n",
    "f1 = f1_score(standard[\"golden\"],\n",
    "              prediction[\"cut\"],\n",
    "              labels=None,\n",
    "              pos_label='yes',\n",
    "              average='binary',\n",
    "              sample_weight=None,\n",
    "              zero_division='warn')\n",
    "print(accuracy, precision, recall, f1)"
   ],
   "outputs": [
    {
     "output_type": "stream",
     "name": "stdout",
     "text": [
      "0.8716216216216216 0.7083333333333334 0.8717948717948718 0.7816091954022988\n"
     ]
    }
   ],
   "metadata": {}
  },
  {
   "cell_type": "code",
   "execution_count": 17,
   "source": [
    "standard[\"golden\"][standard[\"golden\"] == \"yes\"] = \"T\"\n",
    "standard[\"golden\"][standard[\"golden\"] == \"no\"] = \"yes\"\n",
    "standard[\"golden\"][standard[\"golden\"] == \"T\"] = \"no\"\n",
    "prediction[\"cut\"][prediction[\"cut\"] == \"yes\"] = \"T\"\n",
    "prediction[\"cut\"][prediction[\"cut\"] == \"no\"] = \"yes\"\n",
    "prediction[\"cut\"][prediction[\"cut\"] == \"T\"] = \"no\"\n",
    "\n",
    "accuracy = accuracy_score(standard[\"golden\"],\n",
    "                          prediction[\"cut\"],\n",
    "                          normalize=True,\n",
    "                          sample_weight=None)\n",
    "precision = precision_score(standard[\"golden\"],\n",
    "                            prediction[\"cut\"],\n",
    "                            labels=None,\n",
    "                            pos_label='yes',\n",
    "                            average='binary',\n",
    "                            sample_weight=None,\n",
    "                            zero_division='warn')\n",
    "recall = recall_score(standard[\"golden\"],\n",
    "                      prediction[\"cut\"],\n",
    "                      labels=None,\n",
    "                      pos_label='yes',\n",
    "                      average='binary',\n",
    "                      sample_weight=None,\n",
    "                      zero_division='warn')\n",
    "f1 = f1_score(standard[\"golden\"],\n",
    "              prediction[\"cut\"],\n",
    "              labels=None,\n",
    "              pos_label='yes',\n",
    "              average='binary',\n",
    "              sample_weight=None,\n",
    "              zero_division='warn')\n",
    "print(accuracy, precision, recall, f1)"
   ],
   "outputs": [
    {
     "output_type": "stream",
     "name": "stdout",
     "text": [
      "0.8716216216216216 0.95 0.8715596330275229 0.9090909090909091\n"
     ]
    }
   ],
   "metadata": {}
  },
  {
   "cell_type": "markdown",
   "source": [
    "# 绘制roc"
   ],
   "metadata": {}
  },
  {
   "cell_type": "code",
   "execution_count": 258,
   "source": [
    "standard.loc[standard[\"golden\"] == \"yes\", \"golden\"] = 1\n",
    "standard.loc[standard[\"golden\"] == \"no\", \"golden\"] = 0\n",
    "standard[\"minus\"] = 1 - standard[\"golden\"]\n",
    "standard_v = np.array(standard.values, dtype=\"float\")\n",
    "\n",
    "prediction[\"minus\"] = 1\n",
    "for i in prediction.index:\n",
    "    prediction.loc[i, \"rate\"] = prediction.loc[i, \"rate\"]\n",
    "    prediction.loc[i, \"minus\"] = 1 - prediction.loc[i, \"rate\"]\n",
    "prediction_v = np.array(prediction.iloc[:, 1:3].values, dtype=\"float\")\n",
    "\n",
    "# Binarize the output\n",
    "y_test = standard_v\n",
    "y_score = prediction_v\n",
    "n_classes = y_score.shape[1]"
   ],
   "outputs": [],
   "metadata": {}
  },
  {
   "cell_type": "code",
   "execution_count": 246,
   "source": [
    "print(__doc__)\n",
    "\n",
    "import numpy as np\n",
    "import matplotlib.pyplot as plt\n",
    "from itertools import cycle\n",
    "\n",
    "from sklearn import svm, datasets\n",
    "from sklearn.metrics import roc_curve, auc\n",
    "from sklearn.model_selection import train_test_split\n",
    "from sklearn.preprocessing import label_binarize\n",
    "from sklearn.multiclass import OneVsRestClassifier\n",
    "from scipy import interp\n",
    "from sklearn.metrics import roc_auc_score"
   ],
   "outputs": [
    {
     "output_type": "stream",
     "name": "stdout",
     "text": [
      "Automatically created module for IPython interactive environment\n"
     ]
    }
   ],
   "metadata": {}
  },
  {
   "cell_type": "code",
   "execution_count": 247,
   "source": [
    "# Compute ROC curve and ROC area for each class\n",
    "fpr = dict()\n",
    "tpr = dict()\n",
    "roc_auc = dict()\n",
    "for i in range(n_classes):\n",
    "    fpr[i], tpr[i], _ = roc_curve(y_test[:, i], y_score[:, i])\n",
    "    roc_auc[i] = auc(fpr[i], tpr[i])\n",
    "# Compute micro-average ROC curve and ROC area\n",
    "fpr[\"micro\"], tpr[\"micro\"], _ = roc_curve(y_test.ravel(), y_score.ravel())\n",
    "roc_auc[\"micro\"] = auc(fpr[\"micro\"], tpr[\"micro\"])\n",
    "fig  = plt.figure()\n",
    "\n",
    "plt.plot(fpr[0], tpr[0], color='darkorange',\n",
    "         lw=2, label='ROC curve (area = %0.2f)' % roc_auc[0])\n",
    "plt.plot([0, 1], [0, 1], color='navy', lw=lw, linestyle='--')\n",
    "plt.xlim([0.0, 1.0])\n",
    "plt.ylim([0.0, 1.05])\n",
    "plt.xlabel('False Positive Rate')\n",
    "plt.ylabel('True Positive Rate')\n",
    "plt.title('REPEAT%s ROC curve' % re)\n",
    "plt.legend(loc=\"lower right\")\n",
    "plt.show()\n",
    "fig.savefig(\"eval/output_%s/roc_curve.png\" % re)"
   ],
   "outputs": [
    {
     "output_type": "display_data",
     "data": {
      "image/png": "[encoded data removed]",
      "text/plain": [
       "<Figure size 432x288 with 1 Axes>"
      ]
     },
     "metadata": {
      "needs_background": "light"
     }
    }
   ],
   "metadata": {}
  },
  {
   "cell_type": "markdown",
   "source": [
    "# 预测"
   ],
   "metadata": {}
  },
  {
   "cell_type": "code",
   "execution_count": 24,
   "source": [
    "prediction = json.load(open(\"output/predictions_.json\", 'r'))\n",
    "result = {}\n",
    "for i in prediction.keys():\n",
    "    toke = i.split(\":\")[0]\n",
    "    species = \"\"\n",
    "    for j in toke.split(\"_\")[0:-1]:\n",
    "        species = species + \" \" + j\n",
    "    ncbi = \"https://pubmed.ncbi.nlm.nih.gov/%s/\" % toke.split(\"_\")[-1]\n",
    "\n",
    "    result[toke] = [toke.split(\"_\")[-1], species, prediction[i][1][0], ncbi]\n",
    "    \n",
    "result = pd.DataFrame(result, index = [\"ID\", \"SPECIES\", \"rate\", \"link\"]).T"
   ],
   "outputs": [],
   "metadata": {}
  },
  {
   "cell_type": "code",
   "execution_count": 26,
   "source": [
    "sped_path = \"../4.Label_prepare/paper_md\"\n",
    "sped_l = [ele for ele in os.listdir(sped_path) if '.' not in ele]\n",
    "\n",
    "test_qa = []\n",
    "\n",
    "for sped in sped_l:\n",
    "    \n",
    "    print(sped)\n",
    "    df = pd.DataFrame(np.zeros((0,4)), columns = [\"SPECIES\", \"Title\", \"Ab\", \"Full\"])\n",
    "    \n",
    "    id_l = [ele for ele in os.listdir(\"%s/%s\" % (sped_path, sped)) if 'txt' in ele]\n",
    "    id_l = [ele for ele in id_l if ele.replace(\".txt\", \"\") in result.index]\n",
    "\n",
    "    for idx in id_l:\n",
    "\n",
    "        if result.loc[idx.replace(\".txt\", \"\"), \"rate\"] > 0.5:\n",
    "        \n",
    "            txt = open(\"%s/%s/%s\" % (sped_path, sped, idx)).readlines()\n",
    "            idx = idx.split(\".\")[0]\n",
    "            df.loc[idx] = [txt[0].split(\":\")[1], txt[2], txt[3], txt[2] + txt[3]]\n",
    "            \n",
    "            qa = {'qas': [{\n",
    "                'id': '%s:%s' % (idx, df.loc[idx, \"SPECIES\"]),\n",
    "                'question': \"Where was %s measured?\" % df.loc[idx, \"SPECIES\"],\n",
    "                'context': '%s' % df.loc[idx, \"Full\"]}]}\n",
    "            test_qa.append(qa)\n",
    "        \n",
    "    df.to_csv(\"input/test/%s_evi.csv\" % sped, header=True, index=True)\n",
    "\n",
    "test_set = {\"data\":[{'paragraphs':test_qa, 'title':\"LungB\"}], \"version\":\"LungB\"}\n",
    "\n",
    "json.dump(test_set, open(\"input/test_set_evi.json\", \"w\"))"
   ],
   "outputs": [
    {
     "output_type": "stream",
     "name": "stdout",
     "text": [
      "Anaerobic\n",
      "Curved\n",
      "GramN\n",
      "GramPc\n",
      "GramPr\n",
      "Intracellular\n"
     ]
    }
   ],
   "metadata": {
    "tags": []
   }
  },
  {
   "cell_type": "markdown",
   "source": [
    "# 结果组织"
   ],
   "metadata": {}
  },
  {
   "cell_type": "code",
   "execution_count": 31,
   "source": [
    "a = result.loc[result[\"rate\"]>0.95, :]\n",
    "a.to_csv(\"output/prediction.csv\", header=True, index=True)"
   ],
   "outputs": [],
   "metadata": {
    "tags": []
   }
  },
  {
   "cell_type": "code",
   "execution_count": null,
   "source": [
    "sped_l = os.listdir(\"../4.Label_prepare/paper_md/\")\n",
    "for sped in sped_l:\n",
    "    spec_l = os.listdir(\"../4.Label_prepare/paper_md/%s\" % sped)\n",
    "    spec_l = [spec.replace(\".txt\", \"\") for spec in spec_l]\n",
    "    spec_tl = [spec for spec in result.index if spec in spec_l]\n",
    "    spec_yl = [spec for spec in a.index if spec in spec_l]\n",
    "#     print(sped, len(np.unique(spec_tl)), len(np.unique(spec_yl)))\n",
    "    specc_tl = [spec.split(\"_\")[0:-1] for spec in spec_tl]\n",
    "    specc_yl = [spec.split(\"_\")[0:-1] for spec in spec_yl]\n",
    "    print(sped, len(np.unique(specc_tl)), len(np.unique(specc_yl)))"
   ],
   "outputs": [],
   "metadata": {
    "tags": []
   }
  },
  {
   "cell_type": "code",
   "execution_count": null,
   "source": [
    "b = a[\"SPECIES\"]\n",
    "\n",
    "c = []\n",
    "for i in b:\n",
    "    spec = \"\"\n",
    "    for j in i:\n",
    "        spec = spec + \" \" + j\n",
    "        print(spec)\n",
    "        c.append(spec)\n",
    "a[\"SPECIES\"] = c.append(spec)"
   ],
   "outputs": [],
   "metadata": {
    "collapsed": true,
    "jupyter": {
     "outputs_hidden": true
    },
    "tags": []
   }
  }
 ],
 "metadata": {
  "kernelspec": {
   "name": "python3",
   "display_name": "Python 3.8.8 64-bit ('base': conda)"
  },
  "language_info": {
   "codemirror_mode": {
    "name": "ipython",
    "version": 3
   },
   "file_extension": ".py",
   "mimetype": "text/x-python",
   "name": "python",
   "nbconvert_exporter": "python",
   "pygments_lexer": "ipython3",
   "version": "3.8.8"
  },
  "interpreter": {
   "hash": "214392d51fb2c1897b3bd3ad6aaa927e6326499bab7564d3ffedfb7cce17d6fb"
  }
 },
 "nbformat": 4,
 "nbformat_minor": 4
}