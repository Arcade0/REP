{
 "cells": [
  {
   "cell_type": "markdown",
   "metadata": {
    "Collapsed": "false"
   },
   "source": [
    "# Import packages"
   ]
  },
  {
   "cell_type": "code",
   "execution_count": 10,
   "metadata": {
    "Collapsed": "false"
   },
   "outputs": [],
   "source": [
    "import os\n",
    "import numpy as np\n",
    "import pandas as pd\n",
    "import json \n",
    "from collections import Counter\n",
    "from highlight import replace_html_tag, save_html\n",
    "import importlib\n",
    "\n",
    "import pubtator\n",
    "importlib.reload(pubtator)\n"
   ]
  },
  {
   "cell_type": "markdown",
   "metadata": {
    "Collapsed": "false"
   },
   "source": [
    "# Retrive BioConcept"
   ]
  },
  {
   "cell_type": "code",
   "execution_count": null,
   "metadata": {
    "Collapsed": "false"
   },
   "outputs": [
    {
     "name": "stdout",
     "output_type": "stream",
     "text": [
      "Corynebacterium_accolens_AND_abscess_pmid.txt\n",
      "Corynebacterium_accolens_AND_bronchitis_pmid.txt\n",
      "Corynebacterium_accolens_AND_empyema_pmid.txt\n",
      "Corynebacterium_accolens_AND_infection_pmid.txt\n"
     ]
    }
   ],
   "source": [
    "keyword = json.load(open(\"keyword.json\", \"r\"))\n",
    "input_path = \"../1.Search/output\"\n",
    "output_path = \"output\"\n",
    "pubtator(keyword, input_path, output_path)"
   ]
  }
 ],
 "metadata": {
  "kernelspec": {
   "display_name": "Python 3",
   "language": "python",
   "name": "python3"
  },
  "language_info": {
   "codemirror_mode": {
    "name": "ipython",
    "version": 3
   },
   "file_extension": ".py",
   "mimetype": "text/x-python",
   "name": "python",
   "nbconvert_exporter": "python",
   "pygments_lexer": "ipython3",
   "version": "3.8.3"
  },
  "toc-autonumbering": true
 },
 "nbformat": 4,
 "nbformat_minor": 4
}
