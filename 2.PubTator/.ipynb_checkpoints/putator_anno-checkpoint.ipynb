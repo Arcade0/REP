{
 "cells": [
  {
   "cell_type": "markdown",
   "metadata": {
    "Collapsed": "false"
   },
   "source": [
    "# Import packages"
   ]
  },
  {
   "cell_type": "code",
   "execution_count": 24,
   "metadata": {
    "Collapsed": "false"
   },
   "outputs": [],
   "source": [
    "import os\n",
    "import numpy as np\n",
    "import pandas as pd\n",
    "import json \n",
    "from collections import Counter"
   ]
  },
  {
   "cell_type": "markdown",
   "metadata": {
    "Collapsed": "false"
   },
   "source": [
    "# Retrive BioConcept"
   ]
  },
  {
   "cell_type": "code",
   "execution_count": null,
   "metadata": {
    "Collapsed": "false"
   },
   "outputs": [],
   "source": [
    "spec_list = os.listdir(\"../1.Search/output\")\n",
    "\n",
    "for spec in spec_list:\n",
    "        \n",
    "    file_l = [ele for ele in os.listdir(\"../1.Search/output/%s\" % spec) if \"txt\" in ele]\n",
    "    \n",
    "    folder = os.path.exists(\"output/\" + spec)\n",
    "    if not folder:\n",
    "        os. makedirs(\"output/\" + spec)\n",
    "\n",
    "    for file in file_l:\n",
    "        \n",
    "        print(file)\n",
    "        input_name = \"../1.Search/output/%s/%s\" % (spec, file)\n",
    "        output_name = \"output/%s/%s\" % (spec, file)\n",
    "        output_name = output_name.replace(\".txt\", \"\")\n",
    "        \n",
    "        os.system(\"python SubmitPMIDList.py %s biocjson %s.txt\" % (input_name, output_name))\n",
    "        \n",
    "        chek = os.path.exists(output_name + \".txt\")\n",
    "        if chek:\n",
    "            \n",
    "            # Result convert to json file \n",
    "            with open('%s.txt' % output_name,'r') as f:\n",
    "                total_txt = f.read()\n",
    "                total_txt = \"[\" + total_txt.replace(\"\\n\", \",\").strip(\",\") + \"]\"\n",
    "                f.close()\n",
    "\n",
    "            with open('%s.json' % output_name,'w') as f:\n",
    "                f.write(total_txt)\n",
    "                f.close()\n",
    "\n",
    "            txt_d = {}\n",
    "            with open('%s.json' % output_name,'r') as f:\n",
    "                a = json.load(f)\n",
    "                for ele in a:\n",
    "                    txt_d[ele[\"id\"]] = ele\n",
    "                f.close()\n",
    "\n",
    "            with open('%s.json' % output_name,'w') as f:\n",
    "                d = json.dumps(txt_d)\n",
    "                f.write(d)\n",
    "                f.close()\n",
    "            else:\n",
    "                pass"
   ]
  },
  {
   "cell_type": "code",
   "execution_count": null,
   "metadata": {},
   "outputs": [],
   "source": []
  }
 ],
 "metadata": {
  "kernelspec": {
   "display_name": "Python 3",
   "language": "python",
   "name": "python3"
  },
  "language_info": {
   "codemirror_mode": {
    "name": "ipython",
    "version": 3
   },
   "file_extension": ".py",
   "mimetype": "text/x-python",
   "name": "python",
   "nbconvert_exporter": "python",
   "pygments_lexer": "ipython3",
   "version": "3.8.3"
  },
  "toc-autonumbering": true
 },
 "nbformat": 4,
 "nbformat_minor": 4
}
