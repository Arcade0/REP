{
 "cells": [
  {
   "cell_type": "markdown",
   "metadata": {
    "Collapsed": "false"
   },
   "source": [
    "# Import packages"
   ]
  },
  {
   "cell_type": "code",
   "execution_count": 1,
   "metadata": {
    "Collapsed": "false"
   },
   "outputs": [],
   "source": [
    "import os\n",
    "import numpy as np\n",
    "import pandas as pd"
   ]
  },
  {
   "cell_type": "markdown",
   "metadata": {
    "Collapsed": "false"
   },
   "source": [
    "# Retrive BioConcept"
   ]
  },
  {
   "cell_type": "code",
   "execution_count": 10,
   "metadata": {
    "Collapsed": "false"
   },
   "outputs": [
    {
     "data": {
      "text/plain": [
       "[]"
      ]
     },
     "execution_count": 10,
     "metadata": {},
     "output_type": "execute_result"
    }
   ],
   "source": [
    "!! python SubmitPMIDList.py input_pmid/ex.pmid biocjson output_pmid/ex_pmid.txt"
   ]
  },
  {
   "cell_type": "markdown",
   "metadata": {
    "Collapsed": "false"
   },
   "source": [
    "# Result Statistic"
   ]
  },
  {
   "cell_type": "code",
   "execution_count": null,
   "metadata": {
    "Collapsed": "false"
   },
   "outputs": [],
   "source": [
    "import json \n",
    "from collections import Counter\n",
    "\n",
    "line_l = []\n",
    "# Opening JSON file \n",
    "with open('output_pmid/ex_pmid.txt','r') as f:\n",
    "\n",
    "    # returns JSON object as  \n",
    "    # a dictionary \n",
    "    line = f.readline()\n",
    "    while line:\n",
    "        line_l.append(line)\n",
    "#     anno = data[\"passages\"][1][\"annotations\"]\n",
    "#     f.close()"
   ]
  },
  {
   "cell_type": "code",
   "execution_count": 50,
   "metadata": {},
   "outputs": [],
   "source": [
    "type_l = [i['infons']['type'] for i in anno]\n",
    "Counter(type_l)\n",
    "disease_l = [i['text'] for i in anno if i['infons']['type'] == 'Disease']\n",
    "gene_l = [i['text'] for i in anno if i['infons']['type'] == 'Gene']\n",
    "species_l = [[i['text'] for i in anno if i['infons']['type'] == 'Species']]\n"
   ]
  }
 ],
 "metadata": {
  "kernelspec": {
   "display_name": "Python 3",
   "language": "python",
   "name": "python3"
  },
  "language_info": {
   "codemirror_mode": {
    "name": "ipython",
    "version": 3
   },
   "file_extension": ".py",
   "mimetype": "text/x-python",
   "name": "python",
   "nbconvert_exporter": "python",
   "pygments_lexer": "ipython3",
   "version": "3.8.3"
  },
  "toc-autonumbering": true
 },
 "nbformat": 4,
 "nbformat_minor": 4
}
